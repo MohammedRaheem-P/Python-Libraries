{
  "nbformat": 4,
  "nbformat_minor": 0,
  "metadata": {
    "colab": {
      "name": "Numpy.ipynb",
      "provenance": [],
      "collapsed_sections": []
    },
    "kernelspec": {
      "name": "python3",
      "display_name": "Python 3"
    }
  },
  "cells": [
    {
      "cell_type": "code",
      "metadata": {
        "id": "nHDqfy-HnAFk"
      },
      "source": [
        "#importing numpy and calling as an alias called np\n",
        "import numpy as np"
      ],
      "execution_count": 1,
      "outputs": []
    },
    {
      "cell_type": "markdown",
      "metadata": {
        "id": "EI_L4gfU0aRQ"
      },
      "source": [
        "* numpy - numerical python\n",
        "* most commonly used python library\n",
        "* using for array manipulation\n",
        "* easy to operate for large multidimensional arrays"
      ]
    },
    {
      "cell_type": "code",
      "metadata": {
        "colab": {
          "base_uri": "https://localhost:8080/"
        },
        "id": "tTSs6Yeg1QcK",
        "outputId": "f1d89aaa-f3b8-4f56-b41e-33b614530e75"
      },
      "source": [
        "#eg:\n",
        "x=np.array([1,2,3])   # 1-D array or a vector\n",
        "x"
      ],
      "execution_count": 2,
      "outputs": [
        {
          "output_type": "execute_result",
          "data": {
            "text/plain": [
              "array([1, 2, 3])"
            ]
          },
          "metadata": {
            "tags": []
          },
          "execution_count": 2
        }
      ]
    },
    {
      "cell_type": "code",
      "metadata": {
        "colab": {
          "base_uri": "https://localhost:8080/"
        },
        "id": "0d-FAxb11ayt",
        "outputId": "cc7c9c01-0789-4305-fa56-04369b5e9905"
      },
      "source": [
        "x=np.array([[1,2,3],[4,5,6]])  # 2-D array \n",
        "x"
      ],
      "execution_count": 3,
      "outputs": [
        {
          "output_type": "execute_result",
          "data": {
            "text/plain": [
              "array([[1, 2, 3],\n",
              "       [4, 5, 6]])"
            ]
          },
          "metadata": {
            "tags": []
          },
          "execution_count": 3
        }
      ]
    },
    {
      "cell_type": "code",
      "metadata": {
        "colab": {
          "base_uri": "https://localhost:8080/"
        },
        "id": "SmO_E57P1mED",
        "outputId": "7f4c2c64-b4c4-473e-a904-1ae9be18635d"
      },
      "source": [
        "type(x)        #type"
      ],
      "execution_count": 5,
      "outputs": [
        {
          "output_type": "execute_result",
          "data": {
            "text/plain": [
              "numpy.ndarray"
            ]
          },
          "metadata": {
            "tags": []
          },
          "execution_count": 5
        }
      ]
    },
    {
      "cell_type": "markdown",
      "metadata": {
        "id": "suoGauPU1rI_"
      },
      "source": [
        "# Operations (+,-,*,/)"
      ]
    },
    {
      "cell_type": "code",
      "metadata": {
        "colab": {
          "base_uri": "https://localhost:8080/"
        },
        "id": "NYvodDMv1_w8",
        "outputId": "ddd877f2-fc78-4cb7-992d-e9dd0379d0ae"
      },
      "source": [
        "#addition\n",
        "#corresponding elements will add\n",
        "a=np.array([1,2,3])\n",
        "b=np.array([4,5,6])\n",
        "a+b"
      ],
      "execution_count": 7,
      "outputs": [
        {
          "output_type": "execute_result",
          "data": {
            "text/plain": [
              "array([5, 7, 9])"
            ]
          },
          "metadata": {
            "tags": []
          },
          "execution_count": 7
        }
      ]
    },
    {
      "cell_type": "code",
      "metadata": {
        "colab": {
          "base_uri": "https://localhost:8080/"
        },
        "id": "4OdPGYA12Ipn",
        "outputId": "52086e3f-4531-4fc8-b467-2bdde0dfd666"
      },
      "source": [
        "a=np.array([1,2,3])\n",
        "a*3"
      ],
      "execution_count": 8,
      "outputs": [
        {
          "output_type": "execute_result",
          "data": {
            "text/plain": [
              "array([3, 6, 9])"
            ]
          },
          "metadata": {
            "tags": []
          },
          "execution_count": 8
        }
      ]
    },
    {
      "cell_type": "code",
      "metadata": {
        "colab": {
          "base_uri": "https://localhost:8080/"
        },
        "id": "MauCDLIx2bfn",
        "outputId": "f02c312f-8f6a-4f8c-bf8e-1796ae1e46fa"
      },
      "source": [
        "#scaling and translation\n",
        "a=np.array([[1,2],[3,4]])\n",
        "a*2+1"
      ],
      "execution_count": 9,
      "outputs": [
        {
          "output_type": "execute_result",
          "data": {
            "text/plain": [
              "array([[3, 5],\n",
              "       [7, 9]])"
            ]
          },
          "metadata": {
            "tags": []
          },
          "execution_count": 9
        }
      ]
    },
    {
      "cell_type": "markdown",
      "metadata": {
        "id": "jNoOWk9M4ZQr"
      },
      "source": [
        "# Transpose of matrix"
      ]
    },
    {
      "cell_type": "code",
      "metadata": {
        "colab": {
          "base_uri": "https://localhost:8080/"
        },
        "id": "52H844jo4nVv",
        "outputId": "3d6ec018-7066-4cc5-a988-41dcd3d1dfbe"
      },
      "source": [
        "x=np.array([[1,2,3],[4,5,6]])\n",
        "print('x: ',x)\n",
        "print('shape of x: ',x.shape)\n",
        "y=x.T\n",
        "print('transpose of x, y: ',y)\n",
        "print('shape of transpose x ,y shape :',y.shape)"
      ],
      "execution_count": 11,
      "outputs": [
        {
          "output_type": "stream",
          "text": [
            "x:  [[1 2 3]\n",
            " [4 5 6]]\n",
            "shape of x:  (2, 3)\n",
            "transpose of x, y:  [[1 4]\n",
            " [2 5]\n",
            " [3 6]]\n",
            "shape of transpose x ,y shape : (3, 2)\n"
          ],
          "name": "stdout"
        }
      ]
    },
    {
      "cell_type": "code",
      "metadata": {
        "colab": {
          "base_uri": "https://localhost:8080/"
        },
        "id": "ZRFNWo8T5LdP",
        "outputId": "b5af82cb-8dd5-4b1a-dd99-da17da51b650"
      },
      "source": [
        "#however , transpose operation does not affect 1-D\n",
        "#eg\n",
        "a=np.array([1,2,3,4])\n",
        "a.T"
      ],
      "execution_count": 12,
      "outputs": [
        {
          "output_type": "execute_result",
          "data": {
            "text/plain": [
              "array([1, 2, 3, 4])"
            ]
          },
          "metadata": {
            "tags": []
          },
          "execution_count": 12
        }
      ]
    },
    {
      "cell_type": "code",
      "metadata": {
        "colab": {
          "base_uri": "https://localhost:8080/"
        },
        "id": "yk96hVPK5l6t",
        "outputId": "aac05c91-8736-42a7-aa4d-e1cae3632e83"
      },
      "source": [
        "#but will happen on 1D array with 2 brackets\n",
        "#eg\n",
        "b=np.array([[1,2,3,4]])\n",
        "b.T"
      ],
      "execution_count": 14,
      "outputs": [
        {
          "output_type": "execute_result",
          "data": {
            "text/plain": [
              "array([[1],\n",
              "       [2],\n",
              "       [3],\n",
              "       [4]])"
            ]
          },
          "metadata": {
            "tags": []
          },
          "execution_count": 14
        }
      ]
    },
    {
      "cell_type": "markdown",
      "metadata": {
        "id": "PUPqF1bk5yak"
      },
      "source": [
        "# Norm of an array"
      ]
    },
    {
      "cell_type": "code",
      "metadata": {
        "colab": {
          "base_uri": "https://localhost:8080/"
        },
        "id": "e-NJl6ZD6ITY",
        "outputId": "7b9d410c-20c7-4ef0-ec58-7bf316514159"
      },
      "source": [
        "x=np.array([1,2,3,4])\n",
        "np.linalg.norm(x)"
      ],
      "execution_count": 15,
      "outputs": [
        {
          "output_type": "execute_result",
          "data": {
            "text/plain": [
              "5.477225575051661"
            ]
          },
          "metadata": {
            "tags": []
          },
          "execution_count": 15
        }
      ]
    },
    {
      "cell_type": "code",
      "metadata": {
        "colab": {
          "base_uri": "https://localhost:8080/"
        },
        "id": "tXbNU0cO6RSl",
        "outputId": "f6ff3d90-949b-42eb-a735-2343f81e3288"
      },
      "source": [
        "#norm of 2D array\n",
        "x=np.array([[1,2],[3,4]])\n",
        "np.linalg.norm(x)"
      ],
      "execution_count": 16,
      "outputs": [
        {
          "output_type": "execute_result",
          "data": {
            "text/plain": [
              "5.477225575051661"
            ]
          },
          "metadata": {
            "tags": []
          },
          "execution_count": 16
        }
      ]
    },
    {
      "cell_type": "code",
      "metadata": {
        "colab": {
          "base_uri": "https://localhost:8080/"
        },
        "id": "UOaZSI7w6d7n",
        "outputId": "000d5e91-01ac-4354-fe0c-2b7f4e9afcba"
      },
      "source": [
        "#norm through axis\n",
        "x=np.array([[1,2,3],[4,5,6]])\n",
        "print('norm throgh x-axis :',np.linalg.norm(x,axis=1))\n",
        "print('norm throgh y-axis :',np.linalg.norm(x,axis=0))"
      ],
      "execution_count": 17,
      "outputs": [
        {
          "output_type": "stream",
          "text": [
            "norm throgh x-axis : [3.74165739 8.77496439]\n",
            "norm throgh y-axis : [4.12310563 5.38516481 6.70820393]\n"
          ],
          "name": "stdout"
        }
      ]
    },
    {
      "cell_type": "markdown",
      "metadata": {
        "id": "8YBiuueN65C7"
      },
      "source": [
        "# Dot Product"
      ]
    },
    {
      "cell_type": "markdown",
      "metadata": {
        "id": "WKL9Zw4U7ToN"
      },
      "source": [
        "3 ways"
      ]
    },
    {
      "cell_type": "code",
      "metadata": {
        "colab": {
          "base_uri": "https://localhost:8080/"
        },
        "id": "5wa7LOwi7VKF",
        "outputId": "26078079-915e-4277-88e7-91c4cf60a1af"
      },
      "source": [
        "#1 - normal way\n",
        "a=np.array([1,2,3,4])\n",
        "b=np.array([5,6,7,8])\n",
        "np.dot(a,b)"
      ],
      "execution_count": 20,
      "outputs": [
        {
          "output_type": "execute_result",
          "data": {
            "text/plain": [
              "70"
            ]
          },
          "metadata": {
            "tags": []
          },
          "execution_count": 20
        }
      ]
    },
    {
      "cell_type": "code",
      "metadata": {
        "colab": {
          "base_uri": "https://localhost:8080/"
        },
        "id": "Ap1C3ldh7nlQ",
        "outputId": "7ab1bfb7-8bf2-487c-a7ca-373778e26eb5"
      },
      "source": [
        "#2\n",
        "np.sum(a*b)"
      ],
      "execution_count": 21,
      "outputs": [
        {
          "output_type": "execute_result",
          "data": {
            "text/plain": [
              "70"
            ]
          },
          "metadata": {
            "tags": []
          },
          "execution_count": 21
        }
      ]
    },
    {
      "cell_type": "code",
      "metadata": {
        "colab": {
          "base_uri": "https://localhost:8080/"
        },
        "id": "fDrFE6RJ739_",
        "outputId": "da851030-4e75-4777-95db-7e81ce6c4eca"
      },
      "source": [
        "#3\n",
        "sum=0\n",
        "for i,j in zip(a,b):\n",
        "  sum +=i*j\n",
        "print(sum)"
      ],
      "execution_count": 23,
      "outputs": [
        {
          "output_type": "stream",
          "text": [
            "70\n"
          ],
          "name": "stdout"
        }
      ]
    },
    {
      "cell_type": "code",
      "metadata": {
        "colab": {
          "base_uri": "https://localhost:8080/"
        },
        "id": "kb1WpKVO8Iwy",
        "outputId": "f2cae5c3-55dd-4847-b118-575bf0448809"
      },
      "source": [
        "#sum over axis\n",
        "a= np.array([[1,2],[3,4],[5,6]])\n",
        "print('x-axis sum :',np.sum(a,axis=1))\n",
        "print('y-axis sum :',np.sum(a,axis=0))\n"
      ],
      "execution_count": 25,
      "outputs": [
        {
          "output_type": "stream",
          "text": [
            "x-axis sum : [ 3  7 11]\n",
            "y-axis sum : [ 9 12]\n"
          ],
          "name": "stdout"
        }
      ]
    },
    {
      "cell_type": "code",
      "metadata": {
        "colab": {
          "base_uri": "https://localhost:8080/"
        },
        "id": "G5RAKRD98vN2",
        "outputId": "b2aacc23-643e-4410-e5b7-6e1eeaa1dcd1"
      },
      "source": [
        "#mean over axis\n",
        "a= np.array([[1,2],[3,4],[5,6]])\n",
        "print('x-axis mean :',np.mean(a,axis=1))\n",
        "print('y-axis mean :',np.mean(a,axis=0))"
      ],
      "execution_count": 26,
      "outputs": [
        {
          "output_type": "stream",
          "text": [
            "x-axis mean : [1.5 3.5 5.5]\n",
            "y-axis mean : [3. 4.]\n"
          ],
          "name": "stdout"
        }
      ]
    },
    {
      "cell_type": "code",
      "metadata": {
        "colab": {
          "base_uri": "https://localhost:8080/"
        },
        "id": "FOfZPkpw9Gi4",
        "outputId": "d3cff8cd-0891-460b-e21d-3ef31166104a"
      },
      "source": [
        "#another representation for sum and mean\n",
        "a=np.array([1,2,3])\n",
        "print(a.sum())\n",
        "print(a.mean())"
      ],
      "execution_count": 29,
      "outputs": [
        {
          "output_type": "stream",
          "text": [
            "6\n",
            "2.0\n"
          ],
          "name": "stdout"
        }
      ]
    },
    {
      "cell_type": "code",
      "metadata": {
        "id": "X9ZQaqNL9f4X"
      },
      "source": [
        ""
      ],
      "execution_count": null,
      "outputs": []
    }
  ]
}